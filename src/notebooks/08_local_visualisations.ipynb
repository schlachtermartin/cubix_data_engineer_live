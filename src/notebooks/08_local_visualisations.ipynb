{
 "cells": [
  {
   "cell_type": "code",
   "execution_count": 29,
   "metadata": {},
   "outputs": [],
   "source": [
    "from io import StringIO\n",
    "from dotenv import load_dotenv, dotenv_values \n",
    "import os\n",
    "\n",
    "import boto3\n",
    "import pandas as pd\n",
    "load_dotenv() \n",
    "\n",
    "pd.set_option(\"display.max_columns\", 50)\n"
   ]
  },
  {
   "cell_type": "code",
   "execution_count": 2,
   "metadata": {},
   "outputs": [],
   "source": [
    "aws_access_key_id = os.getenv(\"AWS_ACCESS_KEY\")\n",
    "aws_secret_key = os.getenv(\"AWS_SECRET_KEY\")"
   ]
  },
  {
   "cell_type": "code",
   "execution_count": 3,
   "metadata": {},
   "outputs": [],
   "source": [
    "def read_csv_from_s3(bucket: str, path: str, filename: str) -> pd.DataFrame:\n",
    "    \"\"\"Downloads a csv file from an S3 bucket\n",
    "    \n",
    "    Args:\n",
    "        bucket (str):\n",
    "            - The bucket where the files at.\n",
    "        path (str):\n",
    "            - The folders to the file.\n",
    "        filename (str):\n",
    "            - Name of the file.\n",
    "\n",
    "    Returns:\n",
    "        pd.DataFrame:\n",
    "            - A DataFrame of the downloaded file.\n",
    "    \"\"\"\n",
    "    s3 = boto3.client(\"s3\", aws_access_key_id=aws_access_key_id, aws_secret_access_key= aws_secret_key)\n",
    "    \n",
    "    full_path = f\"{path}{filename}\"\n",
    "    \n",
    "    object = s3.get_object(Bucket=bucket, Key=full_path)\n",
    "    object = object[\"Body\"].read().decode(\"utf-8\")\n",
    "    output_df = pd.read_csv(StringIO(object))\n",
    "    \n",
    "    return output_df"
   ]
  },
  {
   "cell_type": "code",
   "execution_count": 4,
   "metadata": {},
   "outputs": [],
   "source": [
    "s3 = boto3.client(\"s3\", aws_access_key_id=aws_access_key_id, aws_secret_access_key= aws_secret_key)\n",
    "bucket = \"cubix-chicago-taxi-sm\"\n",
    "\n",
    "community_areas_path = \"transformed_data/community_areas/\"\n",
    "company_path = \"transformed_data/company/\"\n",
    "date_path = \"transformed_data/date/\"\n",
    "payment_type_path = \"transformed_data/payment_type/\"\n",
    "taxi_trips_path = \"transformed_data/taxi_trips/\"\n",
    "weather_path = \"transformed_data/weather/\"\n"
   ]
  },
  {
   "cell_type": "code",
   "execution_count": 5,
   "metadata": {},
   "outputs": [],
   "source": [
    "community_areas = read_csv_from_s3(bucket, community_areas_path, \"community_areas_master.csv\")\n",
    "company = read_csv_from_s3(bucket, company_path, \"company_master.csv\")\n",
    "date = read_csv_from_s3(bucket, date_path, \"date_dimension.csv\")\n",
    "payment_type = read_csv_from_s3(bucket=bucket, path=payment_type_path, filename=\"payment_type_master.csv\")"
   ]
  },
  {
   "cell_type": "code",
   "execution_count": 6,
   "metadata": {},
   "outputs": [],
   "source": [
    "trips_list = []\n",
    "weather_list = []"
   ]
  },
  {
   "cell_type": "code",
   "execution_count": 7,
   "metadata": {},
   "outputs": [
    {
     "name": "stdout",
     "output_type": "stream",
     "text": [
      "taxi_2024-10-10.csv has been added.\n",
      "taxi_2024-10-11.csv has been added.\n",
      "taxi_2024-10-12.csv has been added.\n",
      "taxi_2024-10-13.csv has been added.\n",
      "taxi_2024-10-14.csv has been added.\n",
      "taxi_2024-10-15.csv has been added.\n",
      "taxi_2024-10-16.csv has been added.\n",
      "taxi_2024-10-17.csv has been added.\n",
      "taxi_2024-10-18.csv has been added.\n",
      "taxi_2024-10-19.csv has been added.\n",
      "taxi_2024-10-20.csv has been added.\n",
      "taxi_2024-10-21.csv has been added.\n",
      "taxi_2024-10-22.csv has been added.\n"
     ]
    }
   ],
   "source": [
    "for file in s3.list_objects(Bucket=bucket, Prefix=taxi_trips_path)[\"Contents\"]:\n",
    "    taxi_trip_key = file[\"Key\"]\n",
    "    \n",
    "    if taxi_trip_key.split(\"/\")[-1].strip() != \"\":\n",
    "        if taxi_trip_key.split(\".\")[1] == \"csv\":\n",
    "            \n",
    "            filename = taxi_trip_key.split(\"/\")[-1]\n",
    "            trip = read_csv_from_s3(bucket= bucket, path= taxi_trips_path, filename= filename)\n",
    "\n",
    "            trips_list.append(trip)\n",
    "            print(f\"{filename} has been added.\")\n",
    "            \n",
    "            \n",
    "            "
   ]
  },
  {
   "cell_type": "code",
   "execution_count": 8,
   "metadata": {},
   "outputs": [],
   "source": [
    "trips = pd.concat(trips_list, ignore_index=True)"
   ]
  },
  {
   "cell_type": "code",
   "execution_count": 11,
   "metadata": {},
   "outputs": [
    {
     "data": {
      "text/plain": [
       "(235071, 20)"
      ]
     },
     "execution_count": 11,
     "metadata": {},
     "output_type": "execute_result"
    }
   ],
   "source": [
    "trips.shape"
   ]
  },
  {
   "cell_type": "code",
   "execution_count": 13,
   "metadata": {},
   "outputs": [
    {
     "name": "stdout",
     "output_type": "stream",
     "text": [
      "weather_2024-10-10.csv has been added.\n",
      "weather_2024-10-11.csv has been added.\n",
      "weather_2024-10-12.csv has been added.\n",
      "weather_2024-10-13.csv has been added.\n",
      "weather_2024-10-14.csv has been added.\n",
      "weather_2024-10-15.csv has been added.\n",
      "weather_2024-10-16.csv has been added.\n",
      "weather_2024-10-17.csv has been added.\n",
      "weather_2024-10-18.csv has been added.\n",
      "weather_2024-10-19.csv has been added.\n",
      "weather_2024-10-20.csv has been added.\n",
      "weather_2024-10-21.csv has been added.\n",
      "weather_2024-10-22.csv has been added.\n"
     ]
    }
   ],
   "source": [
    "for file in s3.list_objects(Bucket=bucket, Prefix=weather_path)[\"Contents\"]:\n",
    "    weather_key = file[\"Key\"]\n",
    "    \n",
    "    if weather_key.split(\"/\")[-1].strip() != \"\":\n",
    "        if weather_key.split(\".\")[1] == \"csv\":\n",
    "            \n",
    "            filename = weather_key.split(\"/\")[-1]\n",
    "            weather_daily = read_csv_from_s3(bucket= bucket, path= weather_path, filename= filename)\n",
    "\n",
    "            weather_list.append(weather_daily)\n",
    "            print(f\"{filename} has been added.\")\n",
    "            \n",
    "           "
   ]
  },
  {
   "cell_type": "code",
   "execution_count": 14,
   "metadata": {},
   "outputs": [],
   "source": [
    "weather = pd.concat(weather_list, ignore_index=True)"
   ]
  },
  {
   "cell_type": "code",
   "execution_count": 17,
   "metadata": {},
   "outputs": [
    {
     "data": {
      "text/plain": [
       "(312, 5)"
      ]
     },
     "execution_count": 17,
     "metadata": {},
     "output_type": "execute_result"
    }
   ],
   "source": [
    "weather.shape"
   ]
  },
  {
   "cell_type": "markdown",
   "metadata": {},
   "source": [
    "#### Join them together"
   ]
  },
  {
   "cell_type": "code",
   "execution_count": 64,
   "metadata": {},
   "outputs": [],
   "source": [
    "trips_full = pd.merge(trips, weather, left_on=\"datetime_for_weather\", right_on= \"datetime\", how= \"inner\")\n",
    "trips_full = trips_full.drop(columns=[\"datetime\"])"
   ]
  },
  {
   "cell_type": "code",
   "execution_count": 65,
   "metadata": {},
   "outputs": [],
   "source": [
    "trips_full = pd.merge(trips_full, company, left_on=\"company_id\", right_on=\"company_id\", how=\"inner\")\n",
    "trips_full = trips_full.drop(columns=[\"company_id\"])"
   ]
  },
  {
   "cell_type": "code",
   "execution_count": 66,
   "metadata": {},
   "outputs": [],
   "source": [
    "trips_full = pd.merge(trips_full, payment_type, left_on=\"payment_type_id\", right_on=\"payment_type_id\", how=\"inner\")\n",
    "trips_full = trips_full.drop(columns=[\"payment_type_id\"])"
   ]
  },
  {
   "cell_type": "code",
   "execution_count": 67,
   "metadata": {},
   "outputs": [],
   "source": [
    "trips_full = pd.merge(trips_full, community_areas, left_on=\"pickup_community_area_id\", right_on=\"area_code\", how=\"inner\")\n",
    "trips_full = trips_full.drop(columns=[\"pickup_community_area_id\",\"area_code\"])\n",
    "trips_full.rename(columns={\"community_name\": \"pickup_community_area_name\"}, inplace=True)"
   ]
  },
  {
   "cell_type": "code",
   "execution_count": 68,
   "metadata": {},
   "outputs": [],
   "source": [
    "trips_full = pd.merge(trips_full, community_areas, left_on=\"dropoff_community_area_id\", right_on=\"area_code\", how=\"inner\")\n",
    "trips_full = trips_full.drop(columns=[\"dropoff_community_area_id\",\"area_code\"])\n",
    "trips_full.rename(columns={\"community_name\": \"dropoff_community_area_name\"}, inplace=True)"
   ]
  },
  {
   "cell_type": "code",
   "execution_count": 72,
   "metadata": {},
   "outputs": [
    {
     "data": {
      "text/html": [
       "<div>\n",
       "<style scoped>\n",
       "    .dataframe tbody tr th:only-of-type {\n",
       "        vertical-align: middle;\n",
       "    }\n",
       "\n",
       "    .dataframe tbody tr th {\n",
       "        vertical-align: top;\n",
       "    }\n",
       "\n",
       "    .dataframe thead th {\n",
       "        text-align: right;\n",
       "    }\n",
       "</style>\n",
       "<table border=\"1\" class=\"dataframe\">\n",
       "  <thead>\n",
       "    <tr style=\"text-align: right;\">\n",
       "      <th></th>\n",
       "      <th>date</th>\n",
       "      <th>year</th>\n",
       "      <th>month</th>\n",
       "      <th>day</th>\n",
       "      <th>day_of_week</th>\n",
       "      <th>is_weekend</th>\n",
       "    </tr>\n",
       "  </thead>\n",
       "  <tbody>\n",
       "    <tr>\n",
       "      <th>0</th>\n",
       "      <td>2023-01-01</td>\n",
       "      <td>2023</td>\n",
       "      <td>1</td>\n",
       "      <td>1</td>\n",
       "      <td>7</td>\n",
       "      <td>True</td>\n",
       "    </tr>\n",
       "    <tr>\n",
       "      <th>1</th>\n",
       "      <td>2023-01-02</td>\n",
       "      <td>2023</td>\n",
       "      <td>1</td>\n",
       "      <td>2</td>\n",
       "      <td>1</td>\n",
       "      <td>False</td>\n",
       "    </tr>\n",
       "    <tr>\n",
       "      <th>2</th>\n",
       "      <td>2023-01-03</td>\n",
       "      <td>2023</td>\n",
       "      <td>1</td>\n",
       "      <td>3</td>\n",
       "      <td>2</td>\n",
       "      <td>False</td>\n",
       "    </tr>\n",
       "    <tr>\n",
       "      <th>3</th>\n",
       "      <td>2023-01-04</td>\n",
       "      <td>2023</td>\n",
       "      <td>1</td>\n",
       "      <td>4</td>\n",
       "      <td>3</td>\n",
       "      <td>False</td>\n",
       "    </tr>\n",
       "    <tr>\n",
       "      <th>4</th>\n",
       "      <td>2023-01-05</td>\n",
       "      <td>2023</td>\n",
       "      <td>1</td>\n",
       "      <td>5</td>\n",
       "      <td>4</td>\n",
       "      <td>False</td>\n",
       "    </tr>\n",
       "  </tbody>\n",
       "</table>\n",
       "</div>"
      ],
      "text/plain": [
       "         date  year  month  day  day_of_week  is_weekend\n",
       "0  2023-01-01  2023      1    1            7        True\n",
       "1  2023-01-02  2023      1    2            1       False\n",
       "2  2023-01-03  2023      1    3            2       False\n",
       "3  2023-01-04  2023      1    4            3       False\n",
       "4  2023-01-05  2023      1    5            4       False"
      ]
     },
     "execution_count": 72,
     "metadata": {},
     "output_type": "execute_result"
    }
   ],
   "source": [
    "date.head()\n",
    "# 2023-01-01\n",
    "# 2024-10-10T23:45:00.000"
   ]
  },
  {
   "cell_type": "code",
   "execution_count": 71,
   "metadata": {},
   "outputs": [],
   "source": [
    "trips_full = pd.merge(trips_full, date, left_on=\"trip_start_timestamp\", right_on=\"date\", how=\"inner\")"
   ]
  },
  {
   "cell_type": "code",
   "execution_count": null,
   "metadata": {},
   "outputs": [],
   "source": []
  },
  {
   "cell_type": "code",
   "execution_count": null,
   "metadata": {},
   "outputs": [],
   "source": []
  },
  {
   "cell_type": "code",
   "execution_count": 63,
   "metadata": {},
   "outputs": [
    {
     "data": {
      "text/html": [
       "<div>\n",
       "<style scoped>\n",
       "    .dataframe tbody tr th:only-of-type {\n",
       "        vertical-align: middle;\n",
       "    }\n",
       "\n",
       "    .dataframe tbody tr th {\n",
       "        vertical-align: top;\n",
       "    }\n",
       "\n",
       "    .dataframe thead th {\n",
       "        text-align: right;\n",
       "    }\n",
       "</style>\n",
       "<table border=\"1\" class=\"dataframe\">\n",
       "  <thead>\n",
       "    <tr style=\"text-align: right;\">\n",
       "      <th></th>\n",
       "      <th>trip_id</th>\n",
       "      <th>taxi_id</th>\n",
       "      <th>trip_start_timestamp</th>\n",
       "      <th>trip_end_timestamp</th>\n",
       "      <th>trip_seconds</th>\n",
       "      <th>trip_miles</th>\n",
       "      <th>fare</th>\n",
       "      <th>tips</th>\n",
       "      <th>tolls</th>\n",
       "      <th>extras</th>\n",
       "      <th>trip_total</th>\n",
       "      <th>pickup_centroid_latitude</th>\n",
       "      <th>pickup_centroid_longitude</th>\n",
       "      <th>dropoff_centroid_latitude</th>\n",
       "      <th>dropoff_centroid_longitude</th>\n",
       "      <th>datetime_for_weather</th>\n",
       "      <th>tempretaure</th>\n",
       "      <th>wind_speed</th>\n",
       "      <th>rain</th>\n",
       "      <th>precipitation</th>\n",
       "      <th>company</th>\n",
       "      <th>payment_type</th>\n",
       "      <th>pickup_community_area_name</th>\n",
       "      <th>dropoff_community_area_name</th>\n",
       "      <th>date</th>\n",
       "      <th>year</th>\n",
       "      <th>month</th>\n",
       "      <th>day</th>\n",
       "      <th>day_of_week</th>\n",
       "      <th>is_weekend</th>\n",
       "    </tr>\n",
       "  </thead>\n",
       "  <tbody>\n",
       "  </tbody>\n",
       "</table>\n",
       "</div>"
      ],
      "text/plain": [
       "Empty DataFrame\n",
       "Columns: [trip_id, taxi_id, trip_start_timestamp, trip_end_timestamp, trip_seconds, trip_miles, fare, tips, tolls, extras, trip_total, pickup_centroid_latitude, pickup_centroid_longitude, dropoff_centroid_latitude, dropoff_centroid_longitude, datetime_for_weather, tempretaure, wind_speed, rain, precipitation, company, payment_type, pickup_community_area_name, dropoff_community_area_name, date, year, month, day, day_of_week, is_weekend]\n",
       "Index: []"
      ]
     },
     "execution_count": 63,
     "metadata": {},
     "output_type": "execute_result"
    }
   ],
   "source": [
    "trips_full.head()"
   ]
  },
  {
   "cell_type": "code",
   "execution_count": null,
   "metadata": {},
   "outputs": [],
   "source": []
  }
 ],
 "metadata": {
  "kernelspec": {
   "display_name": "venv",
   "language": "python",
   "name": "python3"
  },
  "language_info": {
   "codemirror_mode": {
    "name": "ipython",
    "version": 3
   },
   "file_extension": ".py",
   "mimetype": "text/x-python",
   "name": "python",
   "nbconvert_exporter": "python",
   "pygments_lexer": "ipython3",
   "version": "3.12.8"
  }
 },
 "nbformat": 4,
 "nbformat_minor": 2
}
