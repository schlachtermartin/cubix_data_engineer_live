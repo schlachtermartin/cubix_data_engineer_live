{
 "cells": [
  {
   "cell_type": "code",
   "execution_count": 29,
   "metadata": {},
   "outputs": [],
   "source": [
    "from io import StringIO\n",
    "from dotenv import load_dotenv, dotenv_values \n",
    "import os\n",
    "\n",
    "import boto3\n",
    "import pandas as pd\n",
    "load_dotenv() \n",
    "\n",
    "pd.set_option(\"display.max_columns\", 50)\n"
   ]
  },
  {
   "cell_type": "code",
   "execution_count": 2,
   "metadata": {},
   "outputs": [],
   "source": [
    "aws_access_key_id = os.getenv(\"AWS_ACCESS_KEY\")\n",
    "aws_secret_key = os.getenv(\"AWS_SECRET_KEY\")"
   ]
  },
  {
   "cell_type": "code",
   "execution_count": 3,
   "metadata": {},
   "outputs": [],
   "source": [
    "def read_csv_from_s3(bucket: str, path: str, filename: str) -> pd.DataFrame:\n",
    "    \"\"\"Downloads a csv file from an S3 bucket\n",
    "    \n",
    "    Args:\n",
    "        bucket (str):\n",
    "            - The bucket where the files at.\n",
    "        path (str):\n",
    "            - The folders to the file.\n",
    "        filename (str):\n",
    "            - Name of the file.\n",
    "\n",
    "    Returns:\n",
    "        pd.DataFrame:\n",
    "            - A DataFrame of the downloaded file.\n",
    "    \"\"\"\n",
    "    s3 = boto3.client(\"s3\", aws_access_key_id=aws_access_key_id, aws_secret_access_key= aws_secret_key)\n",
    "    \n",
    "    full_path = f\"{path}{filename}\"\n",
    "    \n",
    "    object = s3.get_object(Bucket=bucket, Key=full_path)\n",
    "    object = object[\"Body\"].read().decode(\"utf-8\")\n",
    "    output_df = pd.read_csv(StringIO(object))\n",
    "    \n",
    "    return output_df"
   ]
  },
  {
   "cell_type": "code",
   "execution_count": 4,
   "metadata": {},
   "outputs": [],
   "source": [
    "s3 = boto3.client(\"s3\", aws_access_key_id=aws_access_key_id, aws_secret_access_key= aws_secret_key)\n",
    "bucket = \"cubix-chicago-taxi-sm\"\n",
    "\n",
    "community_areas_path = \"transformed_data/community_areas/\"\n",
    "company_path = \"transformed_data/company/\"\n",
    "date_path = \"transformed_data/date/\"\n",
    "payment_type_path = \"transformed_data/payment_type/\"\n",
    "taxi_trips_path = \"transformed_data/taxi_trips/\"\n",
    "weather_path = \"transformed_data/weather/\"\n"
   ]
  },
  {
   "cell_type": "code",
   "execution_count": 5,
   "metadata": {},
   "outputs": [],
   "source": [
    "community_areas = read_csv_from_s3(bucket, community_areas_path, \"community_areas_master.csv\")\n",
    "company = read_csv_from_s3(bucket, company_path, \"company_master.csv\")\n",
    "date = read_csv_from_s3(bucket, date_path, \"date_dimension.csv\")\n",
    "payment_type = read_csv_from_s3(bucket=bucket, path=payment_type_path, filename=\"payment_type_master.csv\")"
   ]
  },
  {
   "cell_type": "code",
   "execution_count": 6,
   "metadata": {},
   "outputs": [],
   "source": [
    "trips_list = []\n",
    "weather_list = []"
   ]
  },
  {
   "cell_type": "code",
   "execution_count": 7,
   "metadata": {},
   "outputs": [
    {
     "name": "stdout",
     "output_type": "stream",
     "text": [
      "taxi_2024-10-10.csv has been added.\n",
      "taxi_2024-10-11.csv has been added.\n",
      "taxi_2024-10-12.csv has been added.\n",
      "taxi_2024-10-13.csv has been added.\n",
      "taxi_2024-10-14.csv has been added.\n",
      "taxi_2024-10-15.csv has been added.\n",
      "taxi_2024-10-16.csv has been added.\n",
      "taxi_2024-10-17.csv has been added.\n",
      "taxi_2024-10-18.csv has been added.\n",
      "taxi_2024-10-19.csv has been added.\n",
      "taxi_2024-10-20.csv has been added.\n",
      "taxi_2024-10-21.csv has been added.\n",
      "taxi_2024-10-22.csv has been added.\n"
     ]
    }
   ],
   "source": [
    "for file in s3.list_objects(Bucket=bucket, Prefix=taxi_trips_path)[\"Contents\"]:\n",
    "    taxi_trip_key = file[\"Key\"]\n",
    "    \n",
    "    if taxi_trip_key.split(\"/\")[-1].strip() != \"\":\n",
    "        if taxi_trip_key.split(\".\")[1] == \"csv\":\n",
    "            \n",
    "            filename = taxi_trip_key.split(\"/\")[-1]\n",
    "            trip = read_csv_from_s3(bucket= bucket, path= taxi_trips_path, filename= filename)\n",
    "\n",
    "            trips_list.append(trip)\n",
    "            print(f\"{filename} has been added.\")\n",
    "            \n",
    "            \n",
    "            "
   ]
  },
  {
   "cell_type": "code",
   "execution_count": 8,
   "metadata": {},
   "outputs": [],
   "source": [
    "trips = pd.concat(trips_list, ignore_index=True)"
   ]
  },
  {
   "cell_type": "code",
   "execution_count": 11,
   "metadata": {},
   "outputs": [
    {
     "data": {
      "text/plain": [
       "(235071, 20)"
      ]
     },
     "execution_count": 11,
     "metadata": {},
     "output_type": "execute_result"
    }
   ],
   "source": [
    "trips.shape"
   ]
  },
  {
   "cell_type": "code",
   "execution_count": 13,
   "metadata": {},
   "outputs": [
    {
     "name": "stdout",
     "output_type": "stream",
     "text": [
      "weather_2024-10-10.csv has been added.\n",
      "weather_2024-10-11.csv has been added.\n",
      "weather_2024-10-12.csv has been added.\n",
      "weather_2024-10-13.csv has been added.\n",
      "weather_2024-10-14.csv has been added.\n",
      "weather_2024-10-15.csv has been added.\n",
      "weather_2024-10-16.csv has been added.\n",
      "weather_2024-10-17.csv has been added.\n",
      "weather_2024-10-18.csv has been added.\n",
      "weather_2024-10-19.csv has been added.\n",
      "weather_2024-10-20.csv has been added.\n",
      "weather_2024-10-21.csv has been added.\n",
      "weather_2024-10-22.csv has been added.\n"
     ]
    }
   ],
   "source": [
    "for file in s3.list_objects(Bucket=bucket, Prefix=weather_path)[\"Contents\"]:\n",
    "    weather_key = file[\"Key\"]\n",
    "    \n",
    "    if weather_key.split(\"/\")[-1].strip() != \"\":\n",
    "        if weather_key.split(\".\")[1] == \"csv\":\n",
    "            \n",
    "            filename = weather_key.split(\"/\")[-1]\n",
    "            weather_daily = read_csv_from_s3(bucket= bucket, path= weather_path, filename= filename)\n",
    "\n",
    "            weather_list.append(weather_daily)\n",
    "            print(f\"{filename} has been added.\")\n",
    "            \n",
    "           "
   ]
  },
  {
   "cell_type": "code",
   "execution_count": 14,
   "metadata": {},
   "outputs": [],
   "source": [
    "weather = pd.concat(weather_list, ignore_index=True)"
   ]
  },
  {
   "cell_type": "code",
   "execution_count": 17,
   "metadata": {},
   "outputs": [
    {
     "data": {
      "text/plain": [
       "(312, 5)"
      ]
     },
     "execution_count": 17,
     "metadata": {},
     "output_type": "execute_result"
    }
   ],
   "source": [
    "weather.shape"
   ]
  },
  {
   "cell_type": "markdown",
   "metadata": {},
   "source": [
    "#### Join them together"
   ]
  },
  {
   "cell_type": "code",
   "execution_count": 90,
   "metadata": {},
   "outputs": [],
   "source": [
    "trips_full = pd.merge(trips, weather, left_on=\"datetime_for_weather\", right_on= \"datetime\", how= \"inner\")\n",
    "trips_full = trips_full.drop(columns=[\"datetime\"])"
   ]
  },
  {
   "cell_type": "code",
   "execution_count": 91,
   "metadata": {},
   "outputs": [],
   "source": [
    "trips_full = pd.merge(trips_full, company, left_on=\"company_id\", right_on=\"company_id\", how=\"inner\")\n",
    "trips_full = trips_full.drop(columns=[\"company_id\"])"
   ]
  },
  {
   "cell_type": "code",
   "execution_count": 92,
   "metadata": {},
   "outputs": [],
   "source": [
    "trips_full = pd.merge(trips_full, payment_type, left_on=\"payment_type_id\", right_on=\"payment_type_id\", how=\"inner\")\n",
    "trips_full = trips_full.drop(columns=[\"payment_type_id\"])"
   ]
  },
  {
   "cell_type": "code",
   "execution_count": 93,
   "metadata": {},
   "outputs": [],
   "source": [
    "trips_full = pd.merge(trips_full, community_areas, left_on=\"pickup_community_area_id\", right_on=\"area_code\", how=\"inner\")\n",
    "trips_full = trips_full.drop(columns=[\"pickup_community_area_id\",\"area_code\"])\n",
    "trips_full.rename(columns={\"community_name\": \"pickup_community_area_name\"}, inplace=True)"
   ]
  },
  {
   "cell_type": "code",
   "execution_count": 94,
   "metadata": {},
   "outputs": [],
   "source": [
    "trips_full = pd.merge(trips_full, community_areas, left_on=\"dropoff_community_area_id\", right_on=\"area_code\", how=\"inner\")\n",
    "trips_full = trips_full.drop(columns=[\"dropoff_community_area_id\",\"area_code\"])\n",
    "trips_full.rename(columns={\"community_name\": \"dropoff_community_area_name\"}, inplace=True)"
   ]
  },
  {
   "cell_type": "code",
   "execution_count": 95,
   "metadata": {},
   "outputs": [],
   "source": [
    "date['date'] = pd.to_datetime(date['date'])\n",
    "trips_full[\"trip_start_timestamp\"] = pd.to_datetime(trips_full[\"trip_start_timestamp\"])\n",
    "\n",
    "trips_full[\"trip_start_date\"] = trips_full[\"trip_start_timestamp\"].dt.date\n",
    "trips_full[\"trip_start_date\"] = pd.to_datetime(trips_full[\"trip_start_date\"])"
   ]
  },
  {
   "cell_type": "code",
   "execution_count": 96,
   "metadata": {},
   "outputs": [],
   "source": [
    "trips_full = pd.merge(trips_full, date, left_on=\"trip_start_date\", right_on=\"date\", how=\"inner\")\n",
    "trips_full = trips_full.drop(columns=[\"date\"])"
   ]
  },
  {
   "cell_type": "code",
   "execution_count": null,
   "metadata": {},
   "outputs": [],
   "source": []
  },
  {
   "cell_type": "code",
   "execution_count": null,
   "metadata": {},
   "outputs": [],
   "source": []
  },
  {
   "cell_type": "code",
   "execution_count": 97,
   "metadata": {},
   "outputs": [
    {
     "data": {
      "text/html": [
       "<div>\n",
       "<style scoped>\n",
       "    .dataframe tbody tr th:only-of-type {\n",
       "        vertical-align: middle;\n",
       "    }\n",
       "\n",
       "    .dataframe tbody tr th {\n",
       "        vertical-align: top;\n",
       "    }\n",
       "\n",
       "    .dataframe thead th {\n",
       "        text-align: right;\n",
       "    }\n",
       "</style>\n",
       "<table border=\"1\" class=\"dataframe\">\n",
       "  <thead>\n",
       "    <tr style=\"text-align: right;\">\n",
       "      <th></th>\n",
       "      <th>trip_id</th>\n",
       "      <th>taxi_id</th>\n",
       "      <th>trip_start_timestamp</th>\n",
       "      <th>trip_end_timestamp</th>\n",
       "      <th>trip_seconds</th>\n",
       "      <th>trip_miles</th>\n",
       "      <th>fare</th>\n",
       "      <th>tips</th>\n",
       "      <th>tolls</th>\n",
       "      <th>extras</th>\n",
       "      <th>trip_total</th>\n",
       "      <th>pickup_centroid_latitude</th>\n",
       "      <th>pickup_centroid_longitude</th>\n",
       "      <th>dropoff_centroid_latitude</th>\n",
       "      <th>dropoff_centroid_longitude</th>\n",
       "      <th>datetime_for_weather</th>\n",
       "      <th>tempretaure</th>\n",
       "      <th>wind_speed</th>\n",
       "      <th>rain</th>\n",
       "      <th>precipitation</th>\n",
       "      <th>company</th>\n",
       "      <th>payment_type</th>\n",
       "      <th>pickup_community_area_name</th>\n",
       "      <th>dropoff_community_area_name</th>\n",
       "      <th>trip_start_date</th>\n",
       "      <th>year</th>\n",
       "      <th>month</th>\n",
       "      <th>day</th>\n",
       "      <th>day_of_week</th>\n",
       "      <th>is_weekend</th>\n",
       "    </tr>\n",
       "  </thead>\n",
       "  <tbody>\n",
       "    <tr>\n",
       "      <th>0</th>\n",
       "      <td>cf1abe18f63e9163e8c7bb1555e15dea46a6a47c</td>\n",
       "      <td>a04ded5c1365641c170cd53f6befbcf7d3e6234337d0f4...</td>\n",
       "      <td>2024-10-10 23:45:00</td>\n",
       "      <td>2024-10-11T00:00:00.000</td>\n",
       "      <td>1310</td>\n",
       "      <td>6.54</td>\n",
       "      <td>20.00</td>\n",
       "      <td>4.30</td>\n",
       "      <td>0.0</td>\n",
       "      <td>1.0</td>\n",
       "      <td>25.8</td>\n",
       "      <td>41.878866</td>\n",
       "      <td>-87.625192</td>\n",
       "      <td>41.944227</td>\n",
       "      <td>-87.655998</td>\n",
       "      <td>2024-10-10 23:00:00</td>\n",
       "      <td>18.3</td>\n",
       "      <td>8.0</td>\n",
       "      <td>0.0</td>\n",
       "      <td>0.0</td>\n",
       "      <td>Sun Taxi</td>\n",
       "      <td>Credit Card</td>\n",
       "      <td>Loop</td>\n",
       "      <td>Lake View</td>\n",
       "      <td>2024-10-10</td>\n",
       "      <td>2024</td>\n",
       "      <td>10</td>\n",
       "      <td>10</td>\n",
       "      <td>4</td>\n",
       "      <td>False</td>\n",
       "    </tr>\n",
       "    <tr>\n",
       "      <th>1</th>\n",
       "      <td>ce2b7180ac20b666e60a481fdefd150969445b74</td>\n",
       "      <td>396892a80daeabb209e6a8a53a4beb62d71771dcf69611...</td>\n",
       "      <td>2024-10-10 23:45:00</td>\n",
       "      <td>2024-10-11T00:00:00.000</td>\n",
       "      <td>513</td>\n",
       "      <td>3.17</td>\n",
       "      <td>35.00</td>\n",
       "      <td>7.10</td>\n",
       "      <td>0.0</td>\n",
       "      <td>0.0</td>\n",
       "      <td>42.6</td>\n",
       "      <td>41.859350</td>\n",
       "      <td>-87.617358</td>\n",
       "      <td>41.893216</td>\n",
       "      <td>-87.637844</td>\n",
       "      <td>2024-10-10 23:00:00</td>\n",
       "      <td>18.3</td>\n",
       "      <td>8.0</td>\n",
       "      <td>0.0</td>\n",
       "      <td>0.0</td>\n",
       "      <td>Sun Taxi</td>\n",
       "      <td>Credit Card</td>\n",
       "      <td>Near South Side</td>\n",
       "      <td>Near North Side</td>\n",
       "      <td>2024-10-10</td>\n",
       "      <td>2024</td>\n",
       "      <td>10</td>\n",
       "      <td>10</td>\n",
       "      <td>4</td>\n",
       "      <td>False</td>\n",
       "    </tr>\n",
       "    <tr>\n",
       "      <th>2</th>\n",
       "      <td>cc60ec2d55e9f141669db6dc62a9780219974fa7</td>\n",
       "      <td>ac1f0defd00d6b7417e39256ebe1cad16b64955f9a64f2...</td>\n",
       "      <td>2024-10-10 23:45:00</td>\n",
       "      <td>2024-10-10T23:45:00.000</td>\n",
       "      <td>4</td>\n",
       "      <td>0.00</td>\n",
       "      <td>40.00</td>\n",
       "      <td>0.00</td>\n",
       "      <td>0.0</td>\n",
       "      <td>0.0</td>\n",
       "      <td>40.0</td>\n",
       "      <td>41.859350</td>\n",
       "      <td>-87.617358</td>\n",
       "      <td>41.859350</td>\n",
       "      <td>-87.617358</td>\n",
       "      <td>2024-10-10 23:00:00</td>\n",
       "      <td>18.3</td>\n",
       "      <td>8.0</td>\n",
       "      <td>0.0</td>\n",
       "      <td>0.0</td>\n",
       "      <td>City Service</td>\n",
       "      <td>Cash</td>\n",
       "      <td>Near South Side</td>\n",
       "      <td>Near South Side</td>\n",
       "      <td>2024-10-10</td>\n",
       "      <td>2024</td>\n",
       "      <td>10</td>\n",
       "      <td>10</td>\n",
       "      <td>4</td>\n",
       "      <td>False</td>\n",
       "    </tr>\n",
       "    <tr>\n",
       "      <th>3</th>\n",
       "      <td>cc25290458e501d87c5d1fb8155c88ff4007de6e</td>\n",
       "      <td>bb90b2306d04496af0bd28b855103080054c6c38bbbe8e...</td>\n",
       "      <td>2024-10-10 23:45:00</td>\n",
       "      <td>2024-10-11T00:15:00.000</td>\n",
       "      <td>1167</td>\n",
       "      <td>12.17</td>\n",
       "      <td>31.25</td>\n",
       "      <td>7.35</td>\n",
       "      <td>0.0</td>\n",
       "      <td>5.0</td>\n",
       "      <td>44.1</td>\n",
       "      <td>41.785999</td>\n",
       "      <td>-87.750934</td>\n",
       "      <td>41.892508</td>\n",
       "      <td>-87.626215</td>\n",
       "      <td>2024-10-10 23:00:00</td>\n",
       "      <td>18.3</td>\n",
       "      <td>8.0</td>\n",
       "      <td>0.0</td>\n",
       "      <td>0.0</td>\n",
       "      <td>Taxicab Insurance Agency Llc</td>\n",
       "      <td>Credit Card</td>\n",
       "      <td>Garfield Ridge</td>\n",
       "      <td>Near North Side</td>\n",
       "      <td>2024-10-10</td>\n",
       "      <td>2024</td>\n",
       "      <td>10</td>\n",
       "      <td>10</td>\n",
       "      <td>4</td>\n",
       "      <td>False</td>\n",
       "    </tr>\n",
       "    <tr>\n",
       "      <th>4</th>\n",
       "      <td>caa4f1fa506bb556ebd68b41b2ec7d6fa25d406e</td>\n",
       "      <td>2981edd199f55bdc8b5ed188de69e9f5d8116ae8d7a434...</td>\n",
       "      <td>2024-10-10 23:45:00</td>\n",
       "      <td>2024-10-11T00:00:00.000</td>\n",
       "      <td>840</td>\n",
       "      <td>11.70</td>\n",
       "      <td>29.50</td>\n",
       "      <td>0.00</td>\n",
       "      <td>0.0</td>\n",
       "      <td>0.0</td>\n",
       "      <td>29.5</td>\n",
       "      <td>41.690633</td>\n",
       "      <td>-87.570058</td>\n",
       "      <td>41.842076</td>\n",
       "      <td>-87.633973</td>\n",
       "      <td>2024-10-10 23:00:00</td>\n",
       "      <td>18.3</td>\n",
       "      <td>8.0</td>\n",
       "      <td>0.0</td>\n",
       "      <td>0.0</td>\n",
       "      <td>Taxi Affiliation Services</td>\n",
       "      <td>Unknown</td>\n",
       "      <td>South Deering</td>\n",
       "      <td>Armour Square</td>\n",
       "      <td>2024-10-10</td>\n",
       "      <td>2024</td>\n",
       "      <td>10</td>\n",
       "      <td>10</td>\n",
       "      <td>4</td>\n",
       "      <td>False</td>\n",
       "    </tr>\n",
       "  </tbody>\n",
       "</table>\n",
       "</div>"
      ],
      "text/plain": [
       "                                    trip_id  \\\n",
       "0  cf1abe18f63e9163e8c7bb1555e15dea46a6a47c   \n",
       "1  ce2b7180ac20b666e60a481fdefd150969445b74   \n",
       "2  cc60ec2d55e9f141669db6dc62a9780219974fa7   \n",
       "3  cc25290458e501d87c5d1fb8155c88ff4007de6e   \n",
       "4  caa4f1fa506bb556ebd68b41b2ec7d6fa25d406e   \n",
       "\n",
       "                                             taxi_id trip_start_timestamp  \\\n",
       "0  a04ded5c1365641c170cd53f6befbcf7d3e6234337d0f4...  2024-10-10 23:45:00   \n",
       "1  396892a80daeabb209e6a8a53a4beb62d71771dcf69611...  2024-10-10 23:45:00   \n",
       "2  ac1f0defd00d6b7417e39256ebe1cad16b64955f9a64f2...  2024-10-10 23:45:00   \n",
       "3  bb90b2306d04496af0bd28b855103080054c6c38bbbe8e...  2024-10-10 23:45:00   \n",
       "4  2981edd199f55bdc8b5ed188de69e9f5d8116ae8d7a434...  2024-10-10 23:45:00   \n",
       "\n",
       "        trip_end_timestamp  trip_seconds  trip_miles   fare  tips  tolls  \\\n",
       "0  2024-10-11T00:00:00.000          1310        6.54  20.00  4.30    0.0   \n",
       "1  2024-10-11T00:00:00.000           513        3.17  35.00  7.10    0.0   \n",
       "2  2024-10-10T23:45:00.000             4        0.00  40.00  0.00    0.0   \n",
       "3  2024-10-11T00:15:00.000          1167       12.17  31.25  7.35    0.0   \n",
       "4  2024-10-11T00:00:00.000           840       11.70  29.50  0.00    0.0   \n",
       "\n",
       "   extras  trip_total  pickup_centroid_latitude  pickup_centroid_longitude  \\\n",
       "0     1.0        25.8                 41.878866                 -87.625192   \n",
       "1     0.0        42.6                 41.859350                 -87.617358   \n",
       "2     0.0        40.0                 41.859350                 -87.617358   \n",
       "3     5.0        44.1                 41.785999                 -87.750934   \n",
       "4     0.0        29.5                 41.690633                 -87.570058   \n",
       "\n",
       "   dropoff_centroid_latitude  dropoff_centroid_longitude datetime_for_weather  \\\n",
       "0                  41.944227                  -87.655998  2024-10-10 23:00:00   \n",
       "1                  41.893216                  -87.637844  2024-10-10 23:00:00   \n",
       "2                  41.859350                  -87.617358  2024-10-10 23:00:00   \n",
       "3                  41.892508                  -87.626215  2024-10-10 23:00:00   \n",
       "4                  41.842076                  -87.633973  2024-10-10 23:00:00   \n",
       "\n",
       "   tempretaure  wind_speed  rain  precipitation                       company  \\\n",
       "0         18.3         8.0   0.0            0.0                      Sun Taxi   \n",
       "1         18.3         8.0   0.0            0.0                      Sun Taxi   \n",
       "2         18.3         8.0   0.0            0.0                  City Service   \n",
       "3         18.3         8.0   0.0            0.0  Taxicab Insurance Agency Llc   \n",
       "4         18.3         8.0   0.0            0.0     Taxi Affiliation Services   \n",
       "\n",
       "  payment_type pickup_community_area_name dropoff_community_area_name  \\\n",
       "0  Credit Card                       Loop                   Lake View   \n",
       "1  Credit Card            Near South Side             Near North Side   \n",
       "2         Cash            Near South Side             Near South Side   \n",
       "3  Credit Card             Garfield Ridge             Near North Side   \n",
       "4      Unknown              South Deering               Armour Square   \n",
       "\n",
       "  trip_start_date  year  month  day  day_of_week  is_weekend  \n",
       "0      2024-10-10  2024     10   10            4       False  \n",
       "1      2024-10-10  2024     10   10            4       False  \n",
       "2      2024-10-10  2024     10   10            4       False  \n",
       "3      2024-10-10  2024     10   10            4       False  \n",
       "4      2024-10-10  2024     10   10            4       False  "
      ]
     },
     "execution_count": 97,
     "metadata": {},
     "output_type": "execute_result"
    }
   ],
   "source": [
    "trips_full.head()"
   ]
  },
  {
   "cell_type": "code",
   "execution_count": null,
   "metadata": {},
   "outputs": [],
   "source": []
  }
 ],
 "metadata": {
  "kernelspec": {
   "display_name": "venv",
   "language": "python",
   "name": "python3"
  },
  "language_info": {
   "codemirror_mode": {
    "name": "ipython",
    "version": 3
   },
   "file_extension": ".py",
   "mimetype": "text/x-python",
   "name": "python",
   "nbconvert_exporter": "python",
   "pygments_lexer": "ipython3",
   "version": "3.12.8"
  }
 },
 "nbformat": 4,
 "nbformat_minor": 2
}
